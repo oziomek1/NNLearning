{
 "cells": [
  {
   "cell_type": "code",
   "execution_count": 1,
   "metadata": {},
   "outputs": [
    {
     "name": "stderr",
     "output_type": "stream",
     "text": [
      "Using TensorFlow backend.\n",
      "/home/oziomek/anaconda3/lib/python3.6/importlib/_bootstrap.py:219: RuntimeWarning: compiletime version 3.5 of module 'tensorflow.python.framework.fast_tensor_util' does not match runtime version 3.6\n",
      "  return f(*args, **kwds)\n"
     ]
    }
   ],
   "source": [
    "from __future__ import print_function\n",
    "from keras.datasets import mnist\n",
    "from keras.models import Sequential\n",
    "from keras.layers import Dense, Dropout\n",
    "from keras.optimizers import RMSprop\n",
    "from keras.utils import to_categorical\n",
    "\n",
    "batch_size = 128\n",
    "num_classes = 10\n",
    "epochs = 20\n",
    "\n",
    "(x_train, y_train), (x_test, y_test) = mnist.load_data()"
   ]
  },
  {
   "cell_type": "code",
   "execution_count": 2,
   "metadata": {},
   "outputs": [
    {
     "name": "stdout",
     "output_type": "stream",
     "text": [
      "(60000, 784) (10000, 784) 60000 10000\n"
     ]
    }
   ],
   "source": [
    "x_train = x_train.reshape(60000, 784)\n",
    "x_test = x_test.reshape(10000, 784)\n",
    "x_train = x_train.astype('float32')\n",
    "x_test = x_test.astype('float32')\n",
    "x_train /= 255\n",
    "x_test /= 255\n",
    "\n",
    "print(x_train.shape, x_test.shape,\n",
    "      x_train.shape[0], x_test.shape[0])"
   ]
  },
  {
   "cell_type": "code",
   "execution_count": 3,
   "metadata": {},
   "outputs": [
    {
     "name": "stdout",
     "output_type": "stream",
     "text": [
      "(60000,) (10000,)\n",
      "(60000, 10) (10000, 10)\n"
     ]
    }
   ],
   "source": [
    "print(y_train.shape, y_test.shape)\n",
    "\n",
    "y_train = to_categorical(y_train, num_classes)\n",
    "y_test = to_categorical(y_test, num_classes)\n",
    "\n",
    "print(y_train.shape, y_test.shape)"
   ]
  },
  {
   "cell_type": "code",
   "execution_count": 4,
   "metadata": {},
   "outputs": [
    {
     "name": "stdout",
     "output_type": "stream",
     "text": [
      "_________________________________________________________________\n",
      "Layer (type)                 Output Shape              Param #   \n",
      "=================================================================\n",
      "dense_1 (Dense)              (None, 512)               401920    \n",
      "_________________________________________________________________\n",
      "dropout_1 (Dropout)          (None, 512)               0         \n",
      "_________________________________________________________________\n",
      "dense_2 (Dense)              (None, 512)               262656    \n",
      "_________________________________________________________________\n",
      "dropout_2 (Dropout)          (None, 512)               0         \n",
      "_________________________________________________________________\n",
      "dense_3 (Dense)              (None, 10)                5130      \n",
      "=================================================================\n",
      "Total params: 669,706\n",
      "Trainable params: 669,706\n",
      "Non-trainable params: 0\n",
      "_________________________________________________________________\n"
     ]
    }
   ],
   "source": [
    "model = Sequential()\n",
    "model.add(Dense(512, activation='relu', input_shape=(784,)))\n",
    "model.add(Dropout(0.2))\n",
    "model.add(Dense(512, activation='relu'))\n",
    "model.add(Dropout(0.2))\n",
    "model.add(Dense(num_classes, activation='softmax'))\n",
    "\n",
    "model.summary()\n",
    "\n",
    "model.compile(loss='categorical_crossentropy',\n",
    "                optimizer=RMSprop(),\n",
    "                metrics=['accuracy'])"
   ]
  },
  {
   "cell_type": "code",
   "execution_count": 5,
   "metadata": {},
   "outputs": [
    {
     "name": "stdout",
     "output_type": "stream",
     "text": [
      "Train on 60000 samples, validate on 10000 samples\n",
      "Epoch 1/20\n",
      "60000/60000 [==============================] - 16s 271us/step - loss: 0.2483 - acc: 0.9238 - val_loss: 0.1049 - val_acc: 0.9675\n",
      "Epoch 2/20\n",
      "60000/60000 [==============================] - 16s 272us/step - loss: 0.1035 - acc: 0.9684 - val_loss: 0.0807 - val_acc: 0.9752\n",
      "Epoch 3/20\n",
      "60000/60000 [==============================] - 15s 258us/step - loss: 0.0746 - acc: 0.9777 - val_loss: 0.0749 - val_acc: 0.9766\n",
      "Epoch 4/20\n",
      "60000/60000 [==============================] - 15s 255us/step - loss: 0.0611 - acc: 0.9817 - val_loss: 0.0850 - val_acc: 0.9768\n",
      "Epoch 5/20\n",
      "60000/60000 [==============================] - 15s 255us/step - loss: 0.0496 - acc: 0.9853 - val_loss: 0.0861 - val_acc: 0.9791\n",
      "Epoch 6/20\n",
      "60000/60000 [==============================] - 15s 258us/step - loss: 0.0442 - acc: 0.9866 - val_loss: 0.0780 - val_acc: 0.9807\n",
      "Epoch 7/20\n",
      "60000/60000 [==============================] - 15s 254us/step - loss: 0.0395 - acc: 0.9886 - val_loss: 0.0769 - val_acc: 0.9814\n",
      "Epoch 8/20\n",
      "60000/60000 [==============================] - 16s 271us/step - loss: 0.0347 - acc: 0.9893 - val_loss: 0.0753 - val_acc: 0.9835\n",
      "Epoch 9/20\n",
      "60000/60000 [==============================] - 18s 299us/step - loss: 0.0321 - acc: 0.9905 - val_loss: 0.0860 - val_acc: 0.9816\n",
      "Epoch 10/20\n",
      "60000/60000 [==============================] - 16s 275us/step - loss: 0.0292 - acc: 0.9918 - val_loss: 0.0773 - val_acc: 0.9835\n",
      "Epoch 11/20\n",
      "60000/60000 [==============================] - 16s 271us/step - loss: 0.0260 - acc: 0.9919 - val_loss: 0.0887 - val_acc: 0.9834\n",
      "Epoch 12/20\n",
      "60000/60000 [==============================] - 16s 275us/step - loss: 0.0243 - acc: 0.9933 - val_loss: 0.0900 - val_acc: 0.9831\n",
      "Epoch 13/20\n",
      "60000/60000 [==============================] - 16s 268us/step - loss: 0.0240 - acc: 0.9932 - val_loss: 0.0986 - val_acc: 0.9824\n",
      "Epoch 14/20\n",
      "60000/60000 [==============================] - 16s 262us/step - loss: 0.0217 - acc: 0.9938 - val_loss: 0.0984 - val_acc: 0.9842\n",
      "Epoch 15/20\n",
      "60000/60000 [==============================] - 15s 256us/step - loss: 0.0212 - acc: 0.9942 - val_loss: 0.0833 - val_acc: 0.9855\n",
      "Epoch 16/20\n",
      "60000/60000 [==============================] - 14s 241us/step - loss: 0.0204 - acc: 0.9945 - val_loss: 0.1254 - val_acc: 0.9814\n",
      "Epoch 17/20\n",
      "60000/60000 [==============================] - 15s 247us/step - loss: 0.0205 - acc: 0.9945 - val_loss: 0.0966 - val_acc: 0.9850\n",
      "Epoch 18/20\n",
      "60000/60000 [==============================] - 15s 256us/step - loss: 0.0172 - acc: 0.9952 - val_loss: 0.0971 - val_acc: 0.9845\n",
      "Epoch 19/20\n",
      "60000/60000 [==============================] - 16s 272us/step - loss: 0.0195 - acc: 0.9949 - val_loss: 0.1144 - val_acc: 0.9829\n",
      "Epoch 20/20\n",
      "60000/60000 [==============================] - 17s 280us/step - loss: 0.0167 - acc: 0.9957 - val_loss: 0.1148 - val_acc: 0.9846\n",
      "Test accuracy:  0.114766409908\n",
      "Test loss:  0.9846\n"
     ]
    }
   ],
   "source": [
    "history = model.fit(x_train, y_train,\n",
    "                    batch_size=batch_size,\n",
    "                    epochs=epochs,\n",
    "                    verbose=1,\n",
    "                    validation_data=(x_test, y_test))\n",
    "\n",
    "score = model.evaluate(x_test, y_test, verbose=0)\n",
    "\n",
    "print('Test accuracy: ', score[0])\n",
    "print('Test loss: ', score[1])"
   ]
  },
  {
   "cell_type": "code",
   "execution_count": null,
   "metadata": {
    "collapsed": true
   },
   "outputs": [],
   "source": []
  }
 ],
 "metadata": {
  "kernelspec": {
   "display_name": "Python 3",
   "language": "python",
   "name": "python3"
  },
  "language_info": {
   "codemirror_mode": {
    "name": "ipython",
    "version": 3
   },
   "file_extension": ".py",
   "mimetype": "text/x-python",
   "name": "python",
   "nbconvert_exporter": "python",
   "pygments_lexer": "ipython3",
   "version": "3.6.3"
  }
 },
 "nbformat": 4,
 "nbformat_minor": 1
}
