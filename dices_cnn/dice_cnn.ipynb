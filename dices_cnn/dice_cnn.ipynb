{
 "cells": [
  {
   "cell_type": "markdown",
   "metadata": {},
   "source": [
    "# 2D convolution network applied to over 60k images of dice"
   ]
  },
  {
   "cell_type": "code",
   "execution_count": 1,
   "metadata": {},
   "outputs": [
    {
     "name": "stderr",
     "output_type": "stream",
     "text": [
      "Using TensorFlow backend.\n",
      "/usr/local/lib/python3.5/dist-packages/sklearn/cross_validation.py:41: DeprecationWarning: This module was deprecated in version 0.18 in favor of the model_selection module into which all the refactored classes and functions are moved. Also note that the interface of the new CV iterators are different from that of this module. This module will be removed in 0.20.\n",
      "  \"This module will be removed in 0.20.\", DeprecationWarning)\n"
     ]
    },
    {
     "name": "stdout",
     "output_type": "stream",
     "text": [
      "60480\n"
     ]
    }
   ],
   "source": [
    "from keras.models import Sequential, load_model\n",
    "from keras.layers import Dense\n",
    "from keras.layers import Dropout\n",
    "from keras.layers import Flatten\n",
    "from keras.callbacks import ModelCheckpoint\n",
    "from keras.layers.convolutional import Conv2D\n",
    "from keras.layers.convolutional import MaxPooling2D\n",
    "from keras.utils import to_categorical\n",
    "from keras.utils.vis_utils import plot_model\n",
    "from keras import backend as K\n",
    "from sklearn.utils import shuffle\n",
    "from sklearn.cross_validation import train_test_split\n",
    "from PIL import Image\n",
    "\n",
    "import numpy as np\n",
    "from numpy.testing import assert_allclose, assert_equal\n",
    "import matplotlib\n",
    "import matplotlib.pyplot as plt\n",
    "import os\n",
    "\n",
    "# initialization and check if dataset got proper size\n",
    "\n",
    "path = '/home/ubuntu/notebooks/photos/'\n",
    "listing = os.listdir(path)\n",
    "\n",
    "num_samples = 0\n",
    "for i in range(1, 7):\n",
    "    num_samples += len(os.listdir(path+str(i)))\n",
    "assert_equal(60480, num_samples)\n",
    "print(num_samples)"
   ]
  },
  {
   "cell_type": "code",
   "execution_count": 2,
   "metadata": {
    "collapsed": true
   },
   "outputs": [],
   "source": [
    "# load all data into numpy array\n",
    "immatrix = np.array(\n",
    "    [np.array(Image.open(path+str(i) + '/' + file)).flatten() \n",
    "         for i in range(1, 7) \n",
    "             for file in os.listdir(path+str(i))], 'f')"
   ]
  },
  {
   "cell_type": "code",
   "execution_count": 3,
   "metadata": {},
   "outputs": [
    {
     "name": "stdout",
     "output_type": "stream",
     "text": [
      "(60480, 4096)\n"
     ]
    }
   ],
   "source": [
    "print(immatrix.shape)"
   ]
  },
  {
   "cell_type": "code",
   "execution_count": 4,
   "metadata": {
    "collapsed": true
   },
   "outputs": [],
   "source": [
    "# create labels for data in array\n",
    "labels = np.ones((num_samples, ), dtype=int)\n",
    "counter = 0\n",
    "for i in range(0, 60480, 10080):\n",
    "    labels[i:i+10080] = counter\n",
    "    counter +=1"
   ]
  },
  {
   "cell_type": "code",
   "execution_count": 5,
   "metadata": {
    "collapsed": true
   },
   "outputs": [],
   "source": [
    "# randomize data with const random_state\n",
    "data, label = shuffle(immatrix, labels, random_state=8)"
   ]
  },
  {
   "cell_type": "code",
   "execution_count": 6,
   "metadata": {},
   "outputs": [
    {
     "data": {
      "text/plain": [
       "<matplotlib.image.AxesImage at 0x7f8e56d80470>"
      ]
     },
     "execution_count": 6,
     "metadata": {},
     "output_type": "execute_result"
    },
    {
     "data": {
      "image/png": "[encoded data removed]",
      "text/plain": [
       "<matplotlib.figure.Figure at 0x7f8e56de55f8>"
      ]
     },
     "metadata": {},
     "output_type": "display_data"
    }
   ],
   "source": [
    "# show randomly chosen image\n",
    "rows, cols = 64, 64\n",
    "labels_values = 6\n",
    "train_data = [data, label]\n",
    "img=immatrix[2018].reshape(rows, cols)\n",
    "plt.imshow(img)"
   ]
  },
  {
   "cell_type": "code",
   "execution_count": 7,
   "metadata": {
    "collapsed": true
   },
   "outputs": [],
   "source": [
    "(X, y) = (train_data[0], train_data[1])\n",
    "X_train, X_test, y_train, y_test = train_test_split(X, y, test_size=0.2, random_state=8)"
   ]
  },
  {
   "cell_type": "code",
   "execution_count": 8,
   "metadata": {},
   "outputs": [
    {
     "name": "stdout",
     "output_type": "stream",
     "text": [
      "(48384, 1, 64, 64) (12096, 1, 64, 64)\n"
     ]
    }
   ],
   "source": [
    "# reshape to [color_layers][pixels_height][pixels_width], color_layers equal to 2 because photos are in GRAYSCALE\n",
    "X_train = X_train.reshape(X_train.shape[0], 1, rows, cols).astype('float32')\n",
    "X_test = X_test.reshape(X_test.shape[0], 1, rows, cols).astype('float32')\n",
    "\n",
    "# normalize to 0-1\n",
    "X_train /= 255\n",
    "X_test /= 255\n",
    "\n",
    "print(X_train.shape, X_test.shape)"
   ]
  },
  {
   "cell_type": "code",
   "execution_count": 9,
   "metadata": {},
   "outputs": [
    {
     "name": "stdout",
     "output_type": "stream",
     "text": [
      "(48384, 6) (12096, 6)\n"
     ]
    }
   ],
   "source": [
    "# onehot\n",
    "y_train = to_categorical(y_train, 6)\n",
    "y_test = to_categorical(y_test, 6)\n",
    "print(y_train.shape, y_test.shape)"
   ]
  },
  {
   "cell_type": "code",
   "execution_count": 10,
   "metadata": {
    "collapsed": true
   },
   "outputs": [],
   "source": [
    "# create sequential model with 2NN layers\n",
    "def base_model():\n",
    "    model = Sequential()\n",
    "    model.add(Conv2D(64, (5, 5), input_shape=(1, 64, 64), data_format='channels_first', activation='relu'))\n",
    "    model.add(MaxPooling2D(pool_size=(2,2)))\n",
    "    model.add(Conv2D(32, (3, 3), activation='relu'))\n",
    "    model.add(MaxPooling2D(pool_size=(2,2)))\n",
    "    model.add(Dropout(0.2))\n",
    "    model.add(Flatten())\n",
    "    model.add(Dense(1024, activation='relu'))\n",
    "    model.add(Dropout(0.2))\n",
    "    model.add(Dense(256, activation='relu'))\n",
    "    model.add(Dropout(0.2))\n",
    "    model.add(Dense(64, activation='relu'))\n",
    "    model.add(Dense(labels_values, activation='softmax'))\n",
    "    \n",
    "    model.compile(loss='categorical_crossentropy', optimizer='adam', metrics=['accuracy'])\n",
    "    return model"
   ]
  },
  {
   "cell_type": "code",
   "execution_count": 11,
   "metadata": {},
   "outputs": [
    {
     "name": "stdout",
     "output_type": "stream",
     "text": [
      "WARNING:tensorflow:From /usr/local/lib/python3.5/dist-packages/keras/backend/tensorflow_backend.py:1264: calling reduce_prod (from tensorflow.python.ops.math_ops) with keep_dims is deprecated and will be removed in a future version.\n",
      "Instructions for updating:\n",
      "keep_dims is deprecated, use keepdims instead\n",
      "WARNING:tensorflow:From /usr/local/lib/python3.5/dist-packages/keras/backend/tensorflow_backend.py:2885: calling reduce_sum (from tensorflow.python.ops.math_ops) with keep_dims is deprecated and will be removed in a future version.\n",
      "Instructions for updating:\n",
      "keep_dims is deprecated, use keepdims instead\n",
      "WARNING:tensorflow:From /usr/local/lib/python3.5/dist-packages/keras/backend/tensorflow_backend.py:1349: calling reduce_mean (from tensorflow.python.ops.math_ops) with keep_dims is deprecated and will be removed in a future version.\n",
      "Instructions for updating:\n",
      "keep_dims is deprecated, use keepdims instead\n",
      "_________________________________________________________________\n",
      "Layer (type)                 Output Shape              Param #   \n",
      "=================================================================\n",
      "conv2d_1 (Conv2D)            (None, 64, 60, 60)        1664      \n",
      "_________________________________________________________________\n",
      "max_pooling2d_1 (MaxPooling2 (None, 32, 30, 60)        0         \n",
      "_________________________________________________________________\n",
      "conv2d_2 (Conv2D)            (None, 30, 28, 32)        17312     \n",
      "_________________________________________________________________\n",
      "max_pooling2d_2 (MaxPooling2 (None, 15, 14, 32)        0         \n",
      "_________________________________________________________________\n",
      "dropout_1 (Dropout)          (None, 15, 14, 32)        0         \n",
      "_________________________________________________________________\n",
      "flatten_1 (Flatten)          (None, 6720)              0         \n",
      "_________________________________________________________________\n",
      "dense_1 (Dense)              (None, 1024)              6882304   \n",
      "_________________________________________________________________\n",
      "dropout_2 (Dropout)          (None, 1024)              0         \n",
      "_________________________________________________________________\n",
      "dense_2 (Dense)              (None, 256)               262400    \n",
      "_________________________________________________________________\n",
      "dropout_3 (Dropout)          (None, 256)               0         \n",
      "_________________________________________________________________\n",
      "dense_3 (Dense)              (None, 64)                16448     \n",
      "_________________________________________________________________\n",
      "dense_4 (Dense)              (None, 6)                 390       \n",
      "=================================================================\n",
      "Total params: 7,180,518\n",
      "Trainable params: 7,180,518\n",
      "Non-trainable params: 0\n",
      "_________________________________________________________________\n",
      "None\n"
     ]
    }
   ],
   "source": [
    "# summarize model and apply checkpoints\n",
    "model = base_model()\n",
    "print(model.summary())\n",
    "filepath = 'model-{epoch:02d}-{loss:.4f}.h5'\n",
    "checkpoint = ModelCheckpoint(filepath, monitor='loss', verbose=1, save_best_only=True, mode='min')\n",
    "callbacks_list = [checkpoint]"
   ]
  },
  {
   "cell_type": "code",
   "execution_count": 12,
   "metadata": {
    "collapsed": true
   },
   "outputs": [],
   "source": [
    "# visualization of a model\n",
    "plot_model(model, to_file='dice_plot.png', show_shapes=True, show_layer_names=True)"
   ]
  },
  {
   "cell_type": "code",
   "execution_count": 13,
   "metadata": {},
   "outputs": [
    {
     "name": "stdout",
     "output_type": "stream",
     "text": [
      "Train on 48384 samples, validate on 12096 samples\n",
      "Epoch 1/25\n",
      "48312/48384 [============================>.] - ETA: 0s - loss: 0.8291 - acc: 0.6195Epoch 00001: loss improved from inf to 0.82845, saving model to model-01-0.8284.h5\n",
      "48384/48384 [==============================] - 28s 577us/step - loss: 0.8284 - acc: 0.6198 - val_loss: 0.2469 - val_acc: 0.9102\n",
      "Epoch 2/25\n",
      "48312/48384 [============================>.] - ETA: 0s - loss: 0.1665 - acc: 0.9401Epoch 00002: loss improved from 0.82845 to 0.16649, saving model to model-02-0.1665.h5\n",
      "48384/48384 [==============================] - 25s 524us/step - loss: 0.1665 - acc: 0.9401 - val_loss: 0.0405 - val_acc: 0.9874\n",
      "Epoch 3/25\n",
      "48312/48384 [============================>.] - ETA: 0s - loss: 0.0652 - acc: 0.9780Epoch 00003: loss improved from 0.16649 to 0.06524, saving model to model-03-0.0652.h5\n",
      "48384/48384 [==============================] - 25s 524us/step - loss: 0.0652 - acc: 0.9781 - val_loss: 0.0717 - val_acc: 0.9730\n",
      "Epoch 4/25\n",
      "48312/48384 [============================>.] - ETA: 0s - loss: 0.0415 - acc: 0.9854Epoch 00004: loss improved from 0.06524 to 0.04171, saving model to model-04-0.0417.h5\n",
      "48384/48384 [==============================] - 25s 524us/step - loss: 0.0417 - acc: 0.9854 - val_loss: 0.0388 - val_acc: 0.9864\n",
      "Epoch 5/25\n",
      "48312/48384 [============================>.] - ETA: 0s - loss: 0.0341 - acc: 0.9890Epoch 00005: loss improved from 0.04171 to 0.03401, saving model to model-05-0.0340.h5\n",
      "48384/48384 [==============================] - 25s 524us/step - loss: 0.0340 - acc: 0.9890 - val_loss: 0.0210 - val_acc: 0.9930\n",
      "Epoch 6/25\n",
      "48312/48384 [============================>.] - ETA: 0s - loss: 0.0378 - acc: 0.9873Epoch 00006: loss did not improve\n",
      "48384/48384 [==============================] - 25s 522us/step - loss: 0.0377 - acc: 0.9873 - val_loss: 0.0117 - val_acc: 0.9967\n",
      "Epoch 7/25\n",
      "48312/48384 [============================>.] - ETA: 0s - loss: 0.0217 - acc: 0.9927Epoch 00007: loss improved from 0.03401 to 0.02175, saving model to model-07-0.0218.h5\n",
      "48384/48384 [==============================] - 25s 524us/step - loss: 0.0218 - acc: 0.9927 - val_loss: 0.0216 - val_acc: 0.9926\n",
      "Epoch 8/25\n",
      "48312/48384 [============================>.] - ETA: 0s - loss: 0.0217 - acc: 0.9933Epoch 00008: loss improved from 0.02175 to 0.02171, saving model to model-08-0.0217.h5\n",
      "48384/48384 [==============================] - 25s 524us/step - loss: 0.0217 - acc: 0.9933 - val_loss: 0.0105 - val_acc: 0.9964\n",
      "Epoch 9/25\n",
      "48312/48384 [============================>.] - ETA: 0s - loss: 0.0275 - acc: 0.9913Epoch 00009: loss did not improve\n",
      "48384/48384 [==============================] - 25s 523us/step - loss: 0.0274 - acc: 0.9913 - val_loss: 0.0251 - val_acc: 0.9907\n",
      "Epoch 10/25\n",
      "48312/48384 [============================>.] - ETA: 0s - loss: 0.0209 - acc: 0.9936Epoch 00010: loss improved from 0.02171 to 0.02088, saving model to model-10-0.0209.h5\n",
      "48384/48384 [==============================] - 25s 524us/step - loss: 0.0209 - acc: 0.9936 - val_loss: 0.0047 - val_acc: 0.9981\n",
      "Epoch 11/25\n",
      "48312/48384 [============================>.] - ETA: 0s - loss: 0.0177 - acc: 0.9940Epoch 00011: loss improved from 0.02088 to 0.01772, saving model to model-11-0.0177.h5\n",
      "48384/48384 [==============================] - 25s 524us/step - loss: 0.0177 - acc: 0.9940 - val_loss: 0.0113 - val_acc: 0.9960\n",
      "Epoch 12/25\n",
      "48312/48384 [============================>.] - ETA: 0s - loss: 0.0205 - acc: 0.9937Epoch 00012: loss did not improve\n",
      "48384/48384 [==============================] - 25s 522us/step - loss: 0.0205 - acc: 0.9937 - val_loss: 0.0067 - val_acc: 0.9980\n",
      "Epoch 13/25\n",
      "48312/48384 [============================>.] - ETA: 0s - loss: 0.0152 - acc: 0.9954Epoch 00013: loss improved from 0.01772 to 0.01518, saving model to model-13-0.0152.h5\n",
      "48384/48384 [==============================] - 25s 524us/step - loss: 0.0152 - acc: 0.9955 - val_loss: 0.0031 - val_acc: 0.9989\n",
      "Epoch 14/25\n",
      "48312/48384 [============================>.] - ETA: 0s - loss: 0.0130 - acc: 0.9958Epoch 00014: loss improved from 0.01518 to 0.01303, saving model to model-14-0.0130.h5\n",
      "48384/48384 [==============================] - 25s 524us/step - loss: 0.0130 - acc: 0.9958 - val_loss: 0.0364 - val_acc: 0.9917\n",
      "Epoch 15/25\n",
      "48312/48384 [============================>.] - ETA: 0s - loss: 0.0156 - acc: 0.9954Epoch 00015: loss did not improve\n",
      "48384/48384 [==============================] - 25s 522us/step - loss: 0.0156 - acc: 0.9954 - val_loss: 0.0036 - val_acc: 0.9987\n",
      "Epoch 16/25\n",
      "48312/48384 [============================>.] - ETA: 0s - loss: 0.0151 - acc: 0.9954Epoch 00016: loss did not improve\n",
      "48384/48384 [==============================] - 25s 522us/step - loss: 0.0150 - acc: 0.9954 - val_loss: 0.0037 - val_acc: 0.9988\n",
      "Epoch 17/25\n",
      "48312/48384 [============================>.] - ETA: 0s - loss: 0.0104 - acc: 0.9969Epoch 00017: loss improved from 0.01303 to 0.01038, saving model to model-17-0.0104.h5\n",
      "48384/48384 [==============================] - 25s 524us/step - loss: 0.0104 - acc: 0.9969 - val_loss: 0.0109 - val_acc: 0.9961\n",
      "Epoch 18/25\n",
      "48312/48384 [============================>.] - ETA: 0s - loss: 0.0144 - acc: 0.9961Epoch 00018: loss did not improve\n",
      "48384/48384 [==============================] - 25s 522us/step - loss: 0.0144 - acc: 0.9961 - val_loss: 0.0017 - val_acc: 0.9992\n",
      "Epoch 19/25\n",
      "48312/48384 [============================>.] - ETA: 0s - loss: 0.0112 - acc: 0.9967Epoch 00019: loss did not improve\n",
      "48384/48384 [==============================] - 25s 523us/step - loss: 0.0112 - acc: 0.9967 - val_loss: 0.0034 - val_acc: 0.9990\n",
      "Epoch 20/25\n",
      "48312/48384 [============================>.] - ETA: 0s - loss: 0.0111 - acc: 0.9965Epoch 00020: loss did not improve\n",
      "48384/48384 [==============================] - 25s 523us/step - loss: 0.0111 - acc: 0.9965 - val_loss: 0.0031 - val_acc: 0.9994\n",
      "Epoch 21/25\n",
      "48312/48384 [============================>.] - ETA: 0s - loss: 0.0081 - acc: 0.9974Epoch 00021: loss improved from 0.01038 to 0.00810, saving model to model-21-0.0081.h5\n",
      "48384/48384 [==============================] - 25s 524us/step - loss: 0.0081 - acc: 0.9974 - val_loss: 0.0020 - val_acc: 0.9993\n",
      "Epoch 22/25\n",
      "48312/48384 [============================>.] - ETA: 0s - loss: 0.0080 - acc: 0.9975Epoch 00022: loss improved from 0.00810 to 0.00800, saving model to model-22-0.0080.h5\n",
      "48384/48384 [==============================] - 25s 524us/step - loss: 0.0080 - acc: 0.9975 - val_loss: 0.0084 - val_acc: 0.9974\n",
      "Epoch 23/25\n",
      "48312/48384 [============================>.] - ETA: 0s - loss: 0.0078 - acc: 0.9975Epoch 00023: loss improved from 0.00800 to 0.00778, saving model to model-23-0.0078.h5\n",
      "48384/48384 [==============================] - 25s 524us/step - loss: 0.0078 - acc: 0.9975 - val_loss: 0.0037 - val_acc: 0.9991\n",
      "Epoch 24/25\n",
      "48312/48384 [============================>.] - ETA: 0s - loss: 0.0086 - acc: 0.9973Epoch 00024: loss did not improve\n",
      "48384/48384 [==============================] - 25s 523us/step - loss: 0.0087 - acc: 0.9973 - val_loss: 0.0186 - val_acc: 0.9947\n",
      "Epoch 25/25\n",
      "48312/48384 [============================>.] - ETA: 0s - loss: 0.0074 - acc: 0.9979Epoch 00025: loss improved from 0.00778 to 0.00737, saving model to model-25-0.0074.h5\n",
      "48384/48384 [==============================] - 25s 524us/step - loss: 0.0074 - acc: 0.9979 - val_loss: 0.0042 - val_acc: 0.9988\n",
      "12096/12096 [==============================] - 2s 167us/step\n"
     ]
    }
   ],
   "source": [
    "history = model.fit(X_train, y_train, validation_data=(X_test, y_test), epochs=25, batch_size=72, verbose=1, callbacks=callbacks_list)\n",
    "\n",
    "score = model.evaluate(X_test, y_test, verbose=1)"
   ]
  },
  {
   "cell_type": "code",
   "execution_count": 16,
   "metadata": {},
   "outputs": [
    {
     "name": "stdout",
     "output_type": "stream",
     "text": [
      "dict_keys(['acc', 'loss', 'val_loss', 'val_acc'])\n",
      "Accuracy: 99.88%\n",
      "Test loss: 0.00420372898561561\n",
      "Test accuracy 0.9988425925925926\n"
     ]
    }
   ],
   "source": [
    "print(history.history.keys())\n",
    "print(\"Accuracy: %.2f%%\" % (score[1]*100))\n",
    "print('Test loss:', score[0])\n",
    "print('Test accuracy', score[1])"
   ]
  },
  {
   "cell_type": "code",
   "execution_count": 17,
   "metadata": {},
   "outputs": [
    {
     "name": "stdout",
     "output_type": "stream",
     "text": [
      "training results:\n",
      "loss: 0.00420372898561561\n",
      "acc: 0.9988425925925926\n"
     ]
    }
   ],
   "source": [
    "print('training results:')\n",
    "for i in range(len(model.metrics_names)):\n",
    "    print(str(model.metrics_names[i]) + \": \" + str(score[i]))"
   ]
  },
  {
   "cell_type": "code",
   "execution_count": 19,
   "metadata": {},
   "outputs": [
    {
     "data": {
      "image/png": "[encoded data removed]",
      "text/plain": [
       "<matplotlib.figure.Figure at 0x7f8e568e95f8>"
      ]
     },
     "metadata": {},
     "output_type": "display_data"
    }
   ],
   "source": [
    "#summarize for accuracy\n",
    "plt.plot(history.history['acc'])\n",
    "plt.plot(history.history['val_acc'])\n",
    "plt.title('model accuracy')\n",
    "plt.ylabel('accuracy')\n",
    "plt.xlabel('epoch')\n",
    "plt.legend(['train', 'test'], loc='upper left')\n",
    "plt.show()"
   ]
  },
  {
   "cell_type": "code",
   "execution_count": 20,
   "metadata": {},
   "outputs": [
    {
     "data": {
      "image/png": "[encoded data removed]",
      "text/plain": [
       "<matplotlib.figure.Figure at 0x7f8e56ac6c18>"
      ]
     },
     "metadata": {},
     "output_type": "display_data"
    }
   ],
   "source": [
    "#summarize for loss\n",
    "plt.plot(history.history['loss'])\n",
    "plt.plot(history.history['val_loss'])\n",
    "plt.title('model loss')\n",
    "plt.ylabel('loss')\n",
    "plt.xlabel('epoch')\n",
    "plt.legend(['train', 'test'], loc='upper left')\n",
    "plt.show()"
   ]
  },
  {
   "cell_type": "code",
   "execution_count": 21,
   "metadata": {},
   "outputs": [
    {
     "name": "stdout",
     "output_type": "stream",
     "text": [
      "Saved model weights\n"
     ]
    }
   ],
   "source": [
    "model_json = model.to_json()\n",
    "with open('dice_model.json', 'w') as json_file:\n",
    "    json_file.write(model_json)\n",
    "    \n",
    "model.save_weights('dice_weights.h5')\n",
    "print('Saved model weights')"
   ]
  },
  {
   "cell_type": "code",
   "execution_count": 24,
   "metadata": {
    "collapsed": true
   },
   "outputs": [],
   "source": [
    "new_model = load_model('model-25-0.0074.h5')\n",
    "# check in models are similar to the given tolerance\n",
    "assert_allclose(model.predict(X_train),\n",
    "               new_model.predict(X_train),\n",
    "               1e-4)"
   ]
  },
  {
   "cell_type": "code",
   "execution_count": 25,
   "metadata": {},
   "outputs": [
    {
     "name": "stdout",
     "output_type": "stream",
     "text": [
      "Epoch 1/10\n",
      "48312/48384 [============================>.] - ETA: 0s - loss: 0.0099 - acc: 0.9972Epoch 00001: loss improved from inf to 0.00988, saving model to model_continue-01-0.0099.h5\n",
      "48384/48384 [==============================] - 24s 494us/step - loss: 0.0099 - acc: 0.9972\n",
      "Epoch 2/10\n",
      "48312/48384 [============================>.] - ETA: 0s - loss: 0.0095 - acc: 0.9973Epoch 00002: loss improved from 0.00988 to 0.00951, saving model to model_continue-02-0.0095.h5\n",
      "48384/48384 [==============================] - 24s 490us/step - loss: 0.0095 - acc: 0.9973\n",
      "Epoch 3/10\n",
      "48312/48384 [============================>.] - ETA: 0s - loss: 0.0056 - acc: 0.9984Epoch 00003: loss improved from 0.00951 to 0.00564, saving model to model_continue-03-0.0056.h5\n",
      "48384/48384 [==============================] - 24s 489us/step - loss: 0.0056 - acc: 0.9984\n",
      "Epoch 4/10\n",
      "48312/48384 [============================>.] - ETA: 0s - loss: 0.0077 - acc: 0.9976Epoch 00004: loss did not improve\n",
      "48384/48384 [==============================] - 24s 488us/step - loss: 0.0076 - acc: 0.9976\n",
      "Epoch 5/10\n",
      "48312/48384 [============================>.] - ETA: 0s - loss: 0.0069 - acc: 0.9981Epoch 00005: loss did not improve\n",
      "48384/48384 [==============================] - 24s 488us/step - loss: 0.0069 - acc: 0.9981\n",
      "Epoch 6/10\n",
      "48312/48384 [============================>.] - ETA: 0s - loss: 0.0098 - acc: 0.9971Epoch 00006: loss did not improve\n",
      "48384/48384 [==============================] - 24s 488us/step - loss: 0.0098 - acc: 0.9971\n",
      "Epoch 7/10\n",
      "48312/48384 [============================>.] - ETA: 0s - loss: 0.0066 - acc: 0.9982Epoch 00007: loss did not improve\n",
      "48384/48384 [==============================] - 24s 488us/step - loss: 0.0066 - acc: 0.9982\n",
      "Epoch 8/10\n",
      "48312/48384 [============================>.] - ETA: 0s - loss: 0.0074 - acc: 0.9982Epoch 00008: loss did not improve\n",
      "48384/48384 [==============================] - 24s 488us/step - loss: 0.0074 - acc: 0.9982\n",
      "Epoch 9/10\n",
      "48312/48384 [============================>.] - ETA: 0s - loss: 0.0065 - acc: 0.9982Epoch 00009: loss did not improve\n",
      "48384/48384 [==============================] - 24s 488us/step - loss: 0.0065 - acc: 0.9982\n",
      "Epoch 10/10\n",
      "48312/48384 [============================>.] - ETA: 0s - loss: 0.0031 - acc: 0.9992Epoch 00010: loss improved from 0.00564 to 0.00305, saving model to model_continue-10-0.0031.h5\n",
      "48384/48384 [==============================] - 24s 490us/step - loss: 0.0031 - acc: 0.9992\n"
     ]
    }
   ],
   "source": [
    "filepath = 'model_continue-{epoch:02d}-{loss:.4f}.h5'\n",
    "checkpoint = ModelCheckpoint(filepath, monitor='loss', verbose=1, save_best_only=True, mode='min')\n",
    "callbacks_list = [checkpoint]\n",
    "new_history = new_model.fit(X_train, y_train, epochs=10, batch_size=72, callbacks=callbacks_list)"
   ]
  },
  {
   "cell_type": "code",
   "execution_count": 27,
   "metadata": {},
   "outputs": [
    {
     "name": "stdout",
     "output_type": "stream",
     "text": [
      "12096/12096 [==============================] - 2s 166us/step\n",
      "training results:\n",
      "loss: 0.0050289289815833235\n",
      "acc: 0.9984292328042328\n"
     ]
    }
   ],
   "source": [
    "new_score = new_model.evaluate(X_test, y_test, verbose=1)\n",
    "print('training results:')\n",
    "for i in range(len(new_model.metrics_names)):\n",
    "    print(str(new_model.metrics_names[i]) + \": \" + str(new_score[i]))\n"
   ]
  },
  {
   "cell_type": "code",
   "execution_count": 28,
   "metadata": {},
   "outputs": [
    {
     "name": "stdout",
     "output_type": "stream",
     "text": [
      "Saved model weights\n"
     ]
    }
   ],
   "source": [
    "model_json = model.to_json()\n",
    "with open('dice_model_continue.json', 'w') as json_file:\n",
    "    json_file.write(model_json)\n",
    "    \n",
    "model.save_weights('dice_weights_continue.h5')\n",
    "print('Saved model weights')"
   ]
  },
  {
   "cell_type": "code",
   "execution_count": null,
   "metadata": {
    "collapsed": true
   },
   "outputs": [],
   "source": [
    "new_model_2 = load_model('dice/model_continue-10-0.0030.h5')\n",
    "# check in models are similar to the given tolerance\n",
    "# assert_allclose(model.predict(X_train),\n",
    "#                new_model.predict(X_train),\n",
    "#                1e-4)"
   ]
  },
  {
   "cell_type": "code",
   "execution_count": null,
   "metadata": {
    "collapsed": true
   },
   "outputs": [],
   "source": [
    "def plot_model_history(model_history):\n",
    "    fig, axs = plt.subplots(1,2,figsize=(15,5))\n",
    "    # summarize history for accuracy\n",
    "    axs[0].plot(range(1,len(model_history.history['acc'])+1),model_history.history['acc'])\n",
    "    axs[0].plot(range(1,len(model_history.history['val_acc'])+1),model_history.history['val_acc'])\n",
    "    axs[0].set_title('Model Accuracy')\n",
    "    axs[0].set_ylabel('Accuracy')\n",
    "    axs[0].set_xlabel('Epoch')\n",
    "    axs[0].set_xticks(np.arange(1,len(model_history.history['acc'])+1),len(model_history.history['acc'])/10)\n",
    "    axs[0].legend(['train', 'val'], loc='best')\n",
    "    # summarize history for loss\n",
    "    axs[1].plot(range(1,len(model_history.history['loss'])+1),model_history.history['loss'])\n",
    "    axs[1].plot(range(1,len(model_history.history['val_loss'])+1),model_history.history['val_loss'])\n",
    "    axs[1].set_title('Model Loss')\n",
    "    axs[1].set_ylabel('Loss')\n",
    "    axs[1].set_xlabel('Epoch')\n",
    "    axs[1].set_xticks(np.arange(1,len(model_history.history['loss'])+1),len(model_history.history['loss'])/10)\n",
    "    axs[1].legend(['train', 'val'], loc='best')\n",
    "    plt.show()"
   ]
  },
  {
   "cell_type": "code",
   "execution_count": 22,
   "metadata": {
    "collapsed": true
   },
   "outputs": [],
   "source": [
    "def accuracy(test_x, test_y, model):\n",
    "    result = model.predict(test_x)\n",
    "    predicted_class = np.argmax(result, axis=1)\n",
    "    true_class = np.argmax(test_y, axis=1)\n",
    "    num_correct = np.sum(predicted_class == true_class) \n",
    "    accuracy = float(num_correct)/result.shape[0]\n",
    "    return (accuracy * 100)"
   ]
  },
  {
   "cell_type": "code",
   "execution_count": 23,
   "metadata": {},
   "outputs": [
    {
     "name": "stdout",
     "output_type": "stream",
     "text": [
      "Accuracy on test data is: 99.88\n"
     ]
    }
   ],
   "source": [
    "# plot_model_history(new_model_2)\n",
    "# compute test accuracy\n",
    "print ((\"Accuracy on test data is: %0.2f\") % accuracy(X_test,y_test, model))"
   ]
  },
  {
   "cell_type": "code",
   "execution_count": null,
   "metadata": {
    "collapsed": true
   },
   "outputs": [],
   "source": []
  }
 ],
 "metadata": {
  "kernelspec": {
   "display_name": "Python 3",
   "language": "python",
   "name": "python3"
  },
  "language_info": {
   "codemirror_mode": {
    "name": "ipython",
    "version": 3
   },
   "file_extension": ".py",
   "mimetype": "text/x-python",
   "name": "python",
   "nbconvert_exporter": "python",
   "pygments_lexer": "ipython3",
   "version": "3.6.3"
  }
 },
 "nbformat": 4,
 "nbformat_minor": 2
}
