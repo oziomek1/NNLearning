{
 "cells": [
  {
   "cell_type": "markdown",
   "metadata": {},
   "source": [
    "# continue working on 2D convolution network with dices\n",
    "\n",
    "##### applied new datasets and batch size to fit CUDA architecture"
   ]
  },
  {
   "cell_type": "code",
   "execution_count": 1,
   "metadata": {},
   "outputs": [
    {
     "name": "stderr",
     "output_type": "stream",
     "text": [
      "Using TensorFlow backend.\n",
      "/home/oziomek/anaconda3/lib/python3.6/importlib/_bootstrap.py:219: RuntimeWarning: compiletime version 3.5 of module 'tensorflow.python.framework.fast_tensor_util' does not match runtime version 3.6\n",
      "  return f(*args, **kwds)\n",
      "/home/oziomek/anaconda3/lib/python3.6/site-packages/sklearn/cross_validation.py:41: DeprecationWarning: This module was deprecated in version 0.18 in favor of the model_selection module into which all the refactored classes and functions are moved. Also note that the interface of the new CV iterators are different from that of this module. This module will be removed in 0.20.\n",
      "  \"This module will be removed in 0.20.\", DeprecationWarning)\n"
     ]
    }
   ],
   "source": [
    "from keras.models import Sequential, load_model\n",
    "from keras.layers import Dense\n",
    "from keras.layers import Dropout\n",
    "from keras.layers import Flatten\n",
    "from keras.callbacks import ModelCheckpoint\n",
    "from keras.layers.convolutional import Conv2D\n",
    "from keras.layers.convolutional import MaxPooling2D\n",
    "from keras.utils import to_categorical\n",
    "from keras.utils.vis_utils import plot_model\n",
    "from keras import backend as K\n",
    "from sklearn.utils import shuffle\n",
    "from sklearn.cross_validation import train_test_split\n",
    "from PIL import Image\n",
    "\n",
    "import numpy as np\n",
    "from numpy.testing import assert_allclose, assert_equal\n",
    "import matplotlib\n",
    "import matplotlib.pyplot as plt\n",
    "import os"
   ]
  },
  {
   "cell_type": "code",
   "execution_count": 2,
   "metadata": {},
   "outputs": [],
   "source": [
    "model = load_model('../dice/model_continue-10-0.0031.h5')"
   ]
  },
  {
   "cell_type": "code",
   "execution_count": 3,
   "metadata": {},
   "outputs": [
    {
     "name": "stdout",
     "output_type": "stream",
     "text": [
      "1008\n"
     ]
    }
   ],
   "source": [
    "# initialization and check if dataset got proper size\n",
    "\n",
    "path_distance = '/home/oziomek/licencjat/kostki/zdjecia/distance/'\n",
    "listing = os.listdir(path_distance)\n",
    "photos_number = 1008\n",
    "photos_per_set = 168\n",
    "num_samples = 0\n",
    "for i in range(1, 7):\n",
    "    num_samples += len(os.listdir(path_distance+str(i)))\n",
    "print(num_samples)"
   ]
  },
  {
   "cell_type": "code",
   "execution_count": 4,
   "metadata": {
    "collapsed": true
   },
   "outputs": [],
   "source": [
    "# load all data into numpy array\n",
    "immatrix = np.array(\n",
    "    [np.array(Image.open(path_distance+str(i) + '/' + file)).flatten() \n",
    "         for i in range(1, 7) \n",
    "             for file in os.listdir(path_distance+str(i))], 'f')"
   ]
  },
  {
   "cell_type": "code",
   "execution_count": 5,
   "metadata": {},
   "outputs": [
    {
     "name": "stdout",
     "output_type": "stream",
     "text": [
      "(1008, 4096)\n"
     ]
    }
   ],
   "source": [
    "print(immatrix.shape)"
   ]
  },
  {
   "cell_type": "code",
   "execution_count": 6,
   "metadata": {
    "collapsed": true
   },
   "outputs": [],
   "source": [
    "# create labels for data in array\n",
    "labels = np.ones((num_samples, ), dtype=int)\n",
    "counter = 0\n",
    "for i in range(0, photos_number, photos_per_set):\n",
    "    labels[i:i+photos_per_set] = counter\n",
    "    counter +=1"
   ]
  },
  {
   "cell_type": "code",
   "execution_count": 7,
   "metadata": {
    "collapsed": true
   },
   "outputs": [],
   "source": [
    "# randomize data with const random_state\n",
    "data, label = shuffle(immatrix, labels, random_state=5)"
   ]
  },
  {
   "cell_type": "code",
   "execution_count": 8,
   "metadata": {},
   "outputs": [
    {
     "data": {
      "image/png": "[encoded data removed]",
      "text/plain": [
       "<matplotlib.figure.Figure at 0x7f53373e9ac8>"
      ]
     },
     "metadata": {},
     "output_type": "display_data"
    }
   ],
   "source": [
    "# show randomly chosen image\n",
    "rows, cols = 64, 64\n",
    "labels_values = 6\n",
    "train_data = [data, label]\n",
    "img=immatrix[53].reshape(rows, cols)\n",
    "plt.imshow(img)\n",
    "plt.show()"
   ]
  },
  {
   "cell_type": "code",
   "execution_count": 9,
   "metadata": {
    "collapsed": true
   },
   "outputs": [],
   "source": [
    "(X, y) = (train_data[0], train_data[1])\n",
    "X_train, X_test, y_train, y_test = train_test_split(X, y, test_size=0.2, random_state=7)"
   ]
  },
  {
   "cell_type": "code",
   "execution_count": 10,
   "metadata": {},
   "outputs": [
    {
     "name": "stdout",
     "output_type": "stream",
     "text": [
      "(806, 1, 64, 64) (202, 1, 64, 64)\n"
     ]
    }
   ],
   "source": [
    "# reshape to [color_layers][pixels_height][pixels_width], color_layers equal to 2 because photos are in GRAYSCALE\n",
    "X_train = X_train.reshape(X_train.shape[0], 1, rows, cols).astype('float32')\n",
    "X_test = X_test.reshape(X_test.shape[0], 1, rows, cols).astype('float32')\n",
    "\n",
    "# normalize to 0-1\n",
    "X_train /= 255\n",
    "X_test /= 255\n",
    "\n",
    "print(X_train.shape, X_test.shape)"
   ]
  },
  {
   "cell_type": "code",
   "execution_count": 11,
   "metadata": {},
   "outputs": [
    {
     "name": "stdout",
     "output_type": "stream",
     "text": [
      "(806, 6) (202, 6)\n"
     ]
    }
   ],
   "source": [
    "# onehot\n",
    "y_train = to_categorical(y_train, 6)\n",
    "y_test = to_categorical(y_test, 6)\n",
    "print(y_train.shape, y_test.shape)"
   ]
  },
  {
   "cell_type": "code",
   "execution_count": 12,
   "metadata": {},
   "outputs": [
    {
     "name": "stdout",
     "output_type": "stream",
     "text": [
      "Train on 806 samples, validate on 202 samples\n",
      "Epoch 1/10\n",
      "768/806 [===========================>..] - ETA: 1s - loss: 6.8059 - acc: 0.1927 Epoch 00001: loss improved from inf to 6.63944, saving model to model_dist-01-6.6394.h5\n",
      "806/806 [==============================] - 29s 36ms/step - loss: 6.6394 - acc: 0.1998 - val_loss: 2.0065 - val_acc: 0.2228\n",
      "Epoch 2/10\n",
      "768/806 [===========================>..] - ETA: 1s - loss: 2.0432 - acc: 0.2109Epoch 00002: loss improved from 6.63944 to 2.02886, saving model to model_dist-02-2.0289.h5\n",
      "806/806 [==============================] - 28s 35ms/step - loss: 2.0289 - acc: 0.2134 - val_loss: 1.5563 - val_acc: 0.2921\n",
      "Epoch 3/10\n",
      "768/806 [===========================>..] - ETA: 1s - loss: 1.5214 - acc: 0.3255Epoch 00003: loss improved from 2.02886 to 1.51760, saving model to model_dist-03-1.5176.h5\n",
      "806/806 [==============================] - 28s 35ms/step - loss: 1.5176 - acc: 0.3300 - val_loss: 1.4935 - val_acc: 0.3267\n",
      "Epoch 4/10\n",
      "768/806 [===========================>..] - ETA: 1s - loss: 1.4015 - acc: 0.4141Epoch 00004: loss improved from 1.51760 to 1.40389, saving model to model_dist-04-1.4039.h5\n",
      "806/806 [==============================] - 28s 35ms/step - loss: 1.4039 - acc: 0.4107 - val_loss: 1.3977 - val_acc: 0.4109\n",
      "Epoch 5/10\n",
      "768/806 [===========================>..] - ETA: 1s - loss: 1.3132 - acc: 0.4232Epoch 00005: loss improved from 1.40389 to 1.31131, saving model to model_dist-05-1.3113.h5\n",
      "806/806 [==============================] - 28s 35ms/step - loss: 1.3113 - acc: 0.4206 - val_loss: 1.2999 - val_acc: 0.3762\n",
      "Epoch 6/10\n",
      "768/806 [===========================>..] - ETA: 1s - loss: 1.2637 - acc: 0.4206Epoch 00006: loss improved from 1.31131 to 1.26706, saving model to model_dist-06-1.2671.h5\n",
      "806/806 [==============================] - 28s 35ms/step - loss: 1.2671 - acc: 0.4231 - val_loss: 1.2754 - val_acc: 0.3564\n",
      "Epoch 7/10\n",
      "768/806 [===========================>..] - ETA: 1s - loss: 1.1906 - acc: 0.4544Epoch 00007: loss improved from 1.26706 to 1.19191, saving model to model_dist-07-1.1919.h5\n",
      "806/806 [==============================] - 28s 35ms/step - loss: 1.1919 - acc: 0.4504 - val_loss: 1.2232 - val_acc: 0.4257\n",
      "Epoch 8/10\n",
      "768/806 [===========================>..] - ETA: 1s - loss: 1.1475 - acc: 0.4635Epoch 00008: loss improved from 1.19191 to 1.14587, saving model to model_dist-08-1.1459.h5\n",
      "806/806 [==============================] - 28s 35ms/step - loss: 1.1459 - acc: 0.4677 - val_loss: 1.1680 - val_acc: 0.4406\n",
      "Epoch 9/10\n",
      "768/806 [===========================>..] - ETA: 1s - loss: 1.0866 - acc: 0.5065Epoch 00009: loss improved from 1.14587 to 1.08161, saving model to model_dist-09-1.0816.h5\n",
      "806/806 [==============================] - 28s 35ms/step - loss: 1.0816 - acc: 0.5099 - val_loss: 1.1208 - val_acc: 0.4901\n",
      "Epoch 10/10\n",
      "768/806 [===========================>..] - ETA: 1s - loss: 1.0377 - acc: 0.5234Epoch 00010: loss improved from 1.08161 to 1.04346, saving model to model_dist-10-1.0435.h5\n",
      "806/806 [==============================] - 28s 35ms/step - loss: 1.0435 - acc: 0.5248 - val_loss: 1.0584 - val_acc: 0.5099\n"
     ]
    }
   ],
   "source": [
    "# apply checkpoints\n",
    "filepath = 'model_dist-{epoch:02d}-{loss:.4f}.h5'\n",
    "checkpoint = ModelCheckpoint(filepath, monitor='loss', verbose=1, save_best_only=True, mode='min')\n",
    "callbacks_list = [checkpoint]\n",
    "history = model.fit(X_train, y_train, validation_data=(X_test, y_test), epochs=10, batch_size=256, verbose=1, callbacks=callbacks_list)"
   ]
  },
  {
   "cell_type": "code",
   "execution_count": 13,
   "metadata": {},
   "outputs": [
    {
     "name": "stdout",
     "output_type": "stream",
     "text": [
      "202/202 [==============================] - 4s 19ms/step\n"
     ]
    }
   ],
   "source": [
    "score = model.evaluate(X_test, y_test, verbose=1)"
   ]
  },
  {
   "cell_type": "code",
   "execution_count": 14,
   "metadata": {},
   "outputs": [
    {
     "name": "stdout",
     "output_type": "stream",
     "text": [
      "training results:\n",
      "loss: 1.05839460203\n",
      "acc: 0.509900991279\n"
     ]
    }
   ],
   "source": [
    "print('training results:')\n",
    "for i in range(len(model.metrics_names)):\n",
    "    print(str(model.metrics_names[i]) + \": \" + str(score[i]))"
   ]
  },
  {
   "cell_type": "code",
   "execution_count": 15,
   "metadata": {},
   "outputs": [
    {
     "data": {
      "image/png": "[encoded data removed]",
      "text/plain": [
       "<matplotlib.figure.Figure at 0x7f53359d17b8>"
      ]
     },
     "metadata": {},
     "output_type": "display_data"
    }
   ],
   "source": [
    "#summarize for accuracy\n",
    "plt.plot(history.history['acc'])\n",
    "plt.plot(history.history['val_acc'])\n",
    "plt.title('model accuracy')\n",
    "plt.ylabel('accuracy')\n",
    "plt.xlabel('epoch')\n",
    "plt.legend(['train', 'test'], loc='upper left')\n",
    "plt.show()"
   ]
  },
  {
   "cell_type": "code",
   "execution_count": 16,
   "metadata": {},
   "outputs": [
    {
     "data": {
      "image/png": "[encoded data removed]",
      "text/plain": [
       "<matplotlib.figure.Figure at 0x7f533597f198>"
      ]
     },
     "metadata": {},
     "output_type": "display_data"
    }
   ],
   "source": [
    "#summarize for loss\n",
    "plt.plot(history.history['loss'])\n",
    "plt.plot(history.history['val_loss'])\n",
    "plt.title('model loss')\n",
    "plt.ylabel('loss')\n",
    "plt.xlabel('epoch')\n",
    "plt.legend(['train', 'test'], loc='upper left')\n",
    "plt.show()"
   ]
  },
  {
   "cell_type": "code",
   "execution_count": 17,
   "metadata": {},
   "outputs": [
    {
     "name": "stdout",
     "output_type": "stream",
     "text": [
      "Saved model weights\n"
     ]
    }
   ],
   "source": [
    "model_json = model.to_json()\n",
    "with open('model_dist.json', 'w') as json_file:\n",
    "    json_file.write(model_json)\n",
    "    \n",
    "model.save_weights('dice_dist_weights.h5')\n",
    "print('Saved model weights')"
   ]
  }
 ],
 "metadata": {
  "kernelspec": {
   "display_name": "Python 3",
   "language": "python",
   "name": "python3"
  },
  "language_info": {
   "codemirror_mode": {
    "name": "ipython",
    "version": 3
   },
   "file_extension": ".py",
   "mimetype": "text/x-python",
   "name": "python",
   "nbconvert_exporter": "python",
   "pygments_lexer": "ipython3",
   "version": "3.6.3"
  }
 },
 "nbformat": 4,
 "nbformat_minor": 2
}
